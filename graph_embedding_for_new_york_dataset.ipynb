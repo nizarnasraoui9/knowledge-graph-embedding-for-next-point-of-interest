{
 "cells": [
  {
   "cell_type": "code",
   "execution_count": 1,
   "metadata": {},
   "outputs": [],
   "source": [
    "import pandas as pd\n",
    "import datetime"
   ]
  },
  {
   "cell_type": "code",
   "execution_count": 2,
   "metadata": {},
   "outputs": [
    {
     "name": "stderr",
     "output_type": "stream",
     "text": [
      "C:\\Users\\Nizar\\Anaconda3\\lib\\site-packages\\IPython\\core\\interactiveshell.py:3146: DtypeWarning: Columns (1,2,3) have mixed types.Specify dtype option on import or set low_memory=False.\n",
      "  has_raised = await self.run_ast_nodes(code_ast.body, cell_name,\n"
     ]
    }
   ],
   "source": [
    "df=pd.read_csv('ny.csv')"
   ]
  },
  {
   "cell_type": "code",
   "execution_count": 3,
   "metadata": {},
   "outputs": [
    {
     "data": {
      "text/html": [
       "<div>\n",
       "<style scoped>\n",
       "    .dataframe tbody tr th:only-of-type {\n",
       "        vertical-align: middle;\n",
       "    }\n",
       "\n",
       "    .dataframe tbody tr th {\n",
       "        vertical-align: top;\n",
       "    }\n",
       "\n",
       "    .dataframe thead th {\n",
       "        text-align: right;\n",
       "    }\n",
       "</style>\n",
       "<table border=\"1\" class=\"dataframe\">\n",
       "  <thead>\n",
       "    <tr style=\"text-align: right;\">\n",
       "      <th></th>\n",
       "      <th>470</th>\n",
       "      <th>49bbd6c0f964a520f4531fe3</th>\n",
       "      <th>4bf58dd8d48988d127951735</th>\n",
       "      <th>Arts &amp; Crafts Store</th>\n",
       "      <th>40.719810375488535</th>\n",
       "      <th>-74.00258103213994</th>\n",
       "      <th>-240</th>\n",
       "      <th>Tue Apr 03 18:00:09 +0000 2012;;;;;;;;;;</th>\n",
       "    </tr>\n",
       "  </thead>\n",
       "  <tbody>\n",
       "    <tr>\n",
       "      <th>0</th>\n",
       "      <td>979.0</td>\n",
       "      <td>4a43c0aef964a520c6a61fe3</td>\n",
       "      <td>4bf58dd8d48988d1df941735</td>\n",
       "      <td>Bridge</td>\n",
       "      <td>40.606800</td>\n",
       "      <td>-74.044170</td>\n",
       "      <td>-240.0</td>\n",
       "      <td>Tue Apr 03 18:00:25 +0000 2012;;;;;;;;;;</td>\n",
       "    </tr>\n",
       "    <tr>\n",
       "      <th>1</th>\n",
       "      <td>69.0</td>\n",
       "      <td>4c5cc7b485a1e21e00d35711</td>\n",
       "      <td>4bf58dd8d48988d103941735</td>\n",
       "      <td>Home (private)</td>\n",
       "      <td>40.716162</td>\n",
       "      <td>-73.883070</td>\n",
       "      <td>-240.0</td>\n",
       "      <td>Tue Apr 03 18:02:24 +0000 2012;;;;;;;;;;</td>\n",
       "    </tr>\n",
       "    <tr>\n",
       "      <th>2</th>\n",
       "      <td>395.0</td>\n",
       "      <td>4bc7086715a7ef3bef9878da</td>\n",
       "      <td>4bf58dd8d48988d104941735</td>\n",
       "      <td>Medical Center</td>\n",
       "      <td>40.745164</td>\n",
       "      <td>-73.982519</td>\n",
       "      <td>-240.0</td>\n",
       "      <td>Tue Apr 03 18:02:41 +0000 2012;;;;;;;;;;</td>\n",
       "    </tr>\n",
       "    <tr>\n",
       "      <th>3</th>\n",
       "      <td>87.0</td>\n",
       "      <td>4cf2c5321d18a143951b5cec</td>\n",
       "      <td>4bf58dd8d48988d1cb941735</td>\n",
       "      <td>Food Truck</td>\n",
       "      <td>40.740104</td>\n",
       "      <td>-73.989658</td>\n",
       "      <td>-240.0</td>\n",
       "      <td>Tue Apr 03 18:03:00 +0000 2012;;;;;;;;;;</td>\n",
       "    </tr>\n",
       "    <tr>\n",
       "      <th>4</th>\n",
       "      <td>484.0</td>\n",
       "      <td>4b5b981bf964a520900929e3</td>\n",
       "      <td>4bf58dd8d48988d118951735</td>\n",
       "      <td>Food &amp; Drink Shop</td>\n",
       "      <td>40.690427</td>\n",
       "      <td>-73.954687</td>\n",
       "      <td>-240.0</td>\n",
       "      <td>Tue Apr 03 18:04:00 +0000 2012;;;;;;;;;;</td>\n",
       "    </tr>\n",
       "  </tbody>\n",
       "</table>\n",
       "</div>"
      ],
      "text/plain": [
       "     470  49bbd6c0f964a520f4531fe3  4bf58dd8d48988d127951735  \\\n",
       "0  979.0  4a43c0aef964a520c6a61fe3  4bf58dd8d48988d1df941735   \n",
       "1   69.0  4c5cc7b485a1e21e00d35711  4bf58dd8d48988d103941735   \n",
       "2  395.0  4bc7086715a7ef3bef9878da  4bf58dd8d48988d104941735   \n",
       "3   87.0  4cf2c5321d18a143951b5cec  4bf58dd8d48988d1cb941735   \n",
       "4  484.0  4b5b981bf964a520900929e3  4bf58dd8d48988d118951735   \n",
       "\n",
       "  Arts & Crafts Store  40.719810375488535  -74.00258103213994   -240  \\\n",
       "0              Bridge           40.606800          -74.044170 -240.0   \n",
       "1      Home (private)           40.716162          -73.883070 -240.0   \n",
       "2      Medical Center           40.745164          -73.982519 -240.0   \n",
       "3          Food Truck           40.740104          -73.989658 -240.0   \n",
       "4   Food & Drink Shop           40.690427          -73.954687 -240.0   \n",
       "\n",
       "   Tue Apr 03 18:00:09 +0000 2012;;;;;;;;;;  \n",
       "0  Tue Apr 03 18:00:25 +0000 2012;;;;;;;;;;  \n",
       "1  Tue Apr 03 18:02:24 +0000 2012;;;;;;;;;;  \n",
       "2  Tue Apr 03 18:02:41 +0000 2012;;;;;;;;;;  \n",
       "3  Tue Apr 03 18:03:00 +0000 2012;;;;;;;;;;  \n",
       "4  Tue Apr 03 18:04:00 +0000 2012;;;;;;;;;;  "
      ]
     },
     "execution_count": 3,
     "metadata": {},
     "output_type": "execute_result"
    }
   ],
   "source": [
    "df.head()"
   ]
  },
  {
   "cell_type": "code",
   "execution_count": 4,
   "metadata": {},
   "outputs": [],
   "source": [
    "def getHour(x):\n",
    "    date=str(x)\n",
    "    hour=date[11:19]\n",
    "    return hour\n",
    "def getDay(x):\n",
    "    result='weekday'\n",
    "    date=str(x)\n",
    "    day=date[:3]\n",
    "    if(day=='Sat' or day=='San'):\n",
    "        result='weekend'\n",
    "    return result\n",
    "def getSeason(x):\n",
    "    season=''\n",
    "    date=str(x)\n",
    "    month=date[4:7]\n",
    "    seasons={'Sep':'fall','Oct':'fall','Nov':'fall','Dec':'winter','Jan':'winter','Feb':'winter','Mar':'spring','Apr':'spring'\n",
    "             ,'May':'spring','Jun':'summer','Jul':'summer','Aug':'summer'}\n",
    "    season=seasons[month]\n",
    "    return season"
   ]
  },
  {
   "cell_type": "code",
   "execution_count": 5,
   "metadata": {},
   "outputs": [],
   "source": [
    "def compare_time(x,y):\n",
    "    result=False\n",
    "    first_date_second=int(x[17:20])\n",
    "    first_date_minute=int(x[14:16])\n",
    "    first_date_hour=int(x[11:13])\n",
    "    second_date_second=int(y[17:20])\n",
    "    second_date_minute=int(y[14:16])\n",
    "    second_date_hour=int(y[11:13])\n",
    "    if(first_date_hour==second_date_hour):\n",
    "        if(first_date_minute==second_date_minute):\n",
    "            if(first_date_second<second_date_second):\n",
    "                result=True\n",
    "            else:\n",
    "                result=False\n",
    "        elif(first_date_minute<second_date_minute):\n",
    "            result=True\n",
    "        else:\n",
    "            reuslt=False\n",
    "    elif(first_date_hour<second_date_hour):\n",
    "        result=True\n",
    "    else:\n",
    "        result=False\n",
    "    return result\n",
    "\n",
    "def compare_dates(x,y):\n",
    "    result=False\n",
    "    first_date_day=int(x[8:10])\n",
    "    first_date_month=getMonth(df.iloc[2,7])\n",
    "    first_date_year=int(x[26:30])\n",
    "    second_date_day=int(x[8:10])\n",
    "    second_date_month=getMonth(y)\n",
    "    second_date_year=int(y[26:30])\n",
    "    first_date = datetime.date(first_date_year, first_date_month, first_date_day)\n",
    "    second_date = datetime.date(second_date_year, second_date_month, second_date_day)\n",
    "    if(first_date==second_date):\n",
    "        result=compare_time(x,y)\n",
    "    elif(first_date<second_date):\n",
    "        result=True\n",
    "    else:\n",
    "        result=False\n",
    "    return result"
   ]
  },
  {
   "cell_type": "code",
   "execution_count": 7,
   "metadata": {},
   "outputs": [],
   "source": [
    "def get_category_dic(df):\n",
    "    dic={}\n",
    "    for i in range(1,50):\n",
    "        dic[df.iloc[i,1]]=df.iloc[i,3]\n",
    "    return dic"
   ]
  },
  {
   "cell_type": "code",
   "execution_count": 8,
   "metadata": {},
   "outputs": [],
   "source": [
    "def get_visited_pois(df,user_id):\n",
    "    pois=[]\n",
    "    for i in range(1,227426):\n",
    "        if(df.iloc[i,0]==user_id):\n",
    "            pois.append(i)\n",
    "    return pois"
   ]
  },
  {
   "cell_type": "code",
   "execution_count": 9,
   "metadata": {},
   "outputs": [],
   "source": [
    "def sort_visited_pois(df,pois):\n",
    "    try:\n",
    "        for i in range (0,len(pois)-1):\n",
    "            index_min=i\n",
    "            for j in (i+1,len(pois)-1):\n",
    "                if(not(compare_dates(df.iloc[pois[i],7],df.iloc[pois[j],7]))):\n",
    "                    index_min=j\n",
    "            if(index_min!=i):\n",
    "                tmp=pois[i]\n",
    "                pois[i]=pois[index_min]\n",
    "                pois[index_min]=tmp\n",
    "        \n",
    "    except:\n",
    "        print(df.iloc[pois[j],7])\n",
    "    return pois"
   ]
  },
  {
   "cell_type": "code",
   "execution_count": 10,
   "metadata": {},
   "outputs": [],
   "source": [
    "def get_sorted_pois(df,user_id):\n",
    "    pois=get_visited_pois(df,user_id)\n",
    "    sorted_pois=sort_visited_pois(df,pois)\n",
    "    return sorted_pois"
   ]
  },
  {
   "cell_type": "code",
   "execution_count": 13,
   "metadata": {},
   "outputs": [],
   "source": [
    "# return a dictionnary: {user_id:sorted_visited_pois}\n",
    "def get_users_pois(df):\n",
    "    dic={}\n",
    "    for i in range (0,2):\n",
    "        user=df.iloc[i,0]\n",
    "        if user not in dic:\n",
    "            dic[df.iloc[i,0]]=get_sorted_pois(df,user)\n",
    "    return dic"
   ]
  },
  {
   "cell_type": "code",
   "execution_count": null,
   "metadata": {},
   "outputs": [],
   "source": []
  },
  {
   "cell_type": "code",
   "execution_count": null,
   "metadata": {},
   "outputs": [],
   "source": []
  },
  {
   "cell_type": "code",
   "execution_count": null,
   "metadata": {},
   "outputs": [],
   "source": []
  },
  {
   "cell_type": "code",
   "execution_count": null,
   "metadata": {},
   "outputs": [],
   "source": []
  },
  {
   "cell_type": "code",
   "execution_count": null,
   "metadata": {},
   "outputs": [],
   "source": []
  },
  {
   "cell_type": "code",
   "execution_count": null,
   "metadata": {},
   "outputs": [],
   "source": []
  },
  {
   "cell_type": "code",
   "execution_count": null,
   "metadata": {},
   "outputs": [],
   "source": []
  },
  {
   "cell_type": "code",
   "execution_count": null,
   "metadata": {},
   "outputs": [],
   "source": []
  },
  {
   "cell_type": "code",
   "execution_count": null,
   "metadata": {},
   "outputs": [],
   "source": []
  }
 ],
 "metadata": {
  "kernelspec": {
   "display_name": "Python 3",
   "language": "python",
   "name": "python3"
  },
  "language_info": {
   "codemirror_mode": {
    "name": "ipython",
    "version": 3
   },
   "file_extension": ".py",
   "mimetype": "text/x-python",
   "name": "python",
   "nbconvert_exporter": "python",
   "pygments_lexer": "ipython3",
   "version": "3.8.5"
  }
 },
 "nbformat": 4,
 "nbformat_minor": 4
}
